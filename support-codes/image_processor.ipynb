{
 "cells": [
  {
   "cell_type": "code",
   "execution_count": null,
   "metadata": {},
   "outputs": [],
   "source": [
    "\n",
    "# %% Fine tune ResNet50 pretrained model for learning \n",
    "import torch\n",
    "import pandas as pd\n",
    "import json\n",
    "import torch.nn as nn\n",
    "import torchvision.models as models\n",
    "import torchvision.transforms as transforms\n",
    "import warnings\n",
    "warnings.filterwarnings('ignore')\n",
    "from torchvision.io import read_image\n"
   ]
  },
  {
   "cell_type": "code",
   "execution_count": 5,
   "metadata": {},
   "outputs": [],
   "source": [
    "\n",
    "# Load the previously trained model weights\n",
    "trained_model_state_dict = torch.load('/Users/fanzhiwei/Desktop/Aicore-test/facebook-marketplaces-recommendation-ranking-system/model_evaluation/model_20230907_150639/weights/resnet_epoch_9_val_loss_0.2843_val_acc_68.49.pth')\n",
    "# Load the pretrained ResNet-50 model\n",
    "feature_resnet = models.resnet50(pretrained=False)\n",
    "# rebuild the training model and load weights from pretrained parameters\n",
    "feature_resnet.fc = nn.Sequential(\n",
    "    nn.Linear(2048, 1000),\n",
    "    nn.ReLU(),\n",
    "    nn.Linear(1000, 13)\n",
    "    )\n",
    "feature_resnet.load_state_dict(trained_model_state_dict)\n",
    "# drop the last two layers -- transfer from classification to feature extraction model with 1000 neurons\n",
    "feature_resnet.fc = feature_resnet.fc[0]\n"
   ]
  },
  {
   "cell_type": "code",
   "execution_count": 6,
   "metadata": {},
   "outputs": [
    {
     "ename": "KeyboardInterrupt",
     "evalue": "",
     "output_type": "error",
     "traceback": [
      "\u001b[0;31m---------------------------------------------------------------------------\u001b[0m",
      "\u001b[0;31mKeyboardInterrupt\u001b[0m                         Traceback (most recent call last)",
      "Cell \u001b[0;32mIn[6], line 32\u001b[0m\n\u001b[1;32m     30\u001b[0m \u001b[39m# dump key, value into json file\u001b[39;00m\n\u001b[1;32m     31\u001b[0m \u001b[39mwith\u001b[39;00m \u001b[39mopen\u001b[39m(\u001b[39m'\u001b[39m\u001b[39mimage_embeddings.json\u001b[39m\u001b[39m'\u001b[39m,\u001b[39m'\u001b[39m\u001b[39mw\u001b[39m\u001b[39m'\u001b[39m) \u001b[39mas\u001b[39;00m f:\n\u001b[0;32m---> 32\u001b[0m     json\u001b[39m.\u001b[39;49mdump(embedding_dict, f)\n",
      "File \u001b[0;32m~/miniforge3/envs/dl_mac/lib/python3.10/json/__init__.py:179\u001b[0m, in \u001b[0;36mdump\u001b[0;34m(obj, fp, skipkeys, ensure_ascii, check_circular, allow_nan, cls, indent, separators, default, sort_keys, **kw)\u001b[0m\n\u001b[1;32m    173\u001b[0m     iterable \u001b[39m=\u001b[39m \u001b[39mcls\u001b[39m(skipkeys\u001b[39m=\u001b[39mskipkeys, ensure_ascii\u001b[39m=\u001b[39mensure_ascii,\n\u001b[1;32m    174\u001b[0m         check_circular\u001b[39m=\u001b[39mcheck_circular, allow_nan\u001b[39m=\u001b[39mallow_nan, indent\u001b[39m=\u001b[39mindent,\n\u001b[1;32m    175\u001b[0m         separators\u001b[39m=\u001b[39mseparators,\n\u001b[1;32m    176\u001b[0m         default\u001b[39m=\u001b[39mdefault, sort_keys\u001b[39m=\u001b[39msort_keys, \u001b[39m*\u001b[39m\u001b[39m*\u001b[39mkw)\u001b[39m.\u001b[39miterencode(obj)\n\u001b[1;32m    177\u001b[0m \u001b[39m# could accelerate with writelines in some versions of Python, at\u001b[39;00m\n\u001b[1;32m    178\u001b[0m \u001b[39m# a debuggability cost\u001b[39;00m\n\u001b[0;32m--> 179\u001b[0m \u001b[39mfor\u001b[39;00m chunk \u001b[39min\u001b[39;00m iterable:\n\u001b[1;32m    180\u001b[0m     fp\u001b[39m.\u001b[39mwrite(chunk)\n",
      "File \u001b[0;32m~/miniforge3/envs/dl_mac/lib/python3.10/json/encoder.py:431\u001b[0m, in \u001b[0;36m_make_iterencode.<locals>._iterencode\u001b[0;34m(o, _current_indent_level)\u001b[0m\n\u001b[1;32m    429\u001b[0m     \u001b[39myield from\u001b[39;00m _iterencode_list(o, _current_indent_level)\n\u001b[1;32m    430\u001b[0m \u001b[39melif\u001b[39;00m \u001b[39misinstance\u001b[39m(o, \u001b[39mdict\u001b[39m):\n\u001b[0;32m--> 431\u001b[0m     \u001b[39myield from\u001b[39;00m _iterencode_dict(o, _current_indent_level)\n\u001b[1;32m    432\u001b[0m \u001b[39melse\u001b[39;00m:\n\u001b[1;32m    433\u001b[0m     \u001b[39mif\u001b[39;00m markers \u001b[39mis\u001b[39;00m \u001b[39mnot\u001b[39;00m \u001b[39mNone\u001b[39;00m:\n",
      "File \u001b[0;32m~/miniforge3/envs/dl_mac/lib/python3.10/json/encoder.py:405\u001b[0m, in \u001b[0;36m_make_iterencode.<locals>._iterencode_dict\u001b[0;34m(dct, _current_indent_level)\u001b[0m\n\u001b[1;32m    403\u001b[0m         \u001b[39melse\u001b[39;00m:\n\u001b[1;32m    404\u001b[0m             chunks \u001b[39m=\u001b[39m _iterencode(value, _current_indent_level)\n\u001b[0;32m--> 405\u001b[0m         \u001b[39myield from\u001b[39;00m chunks\n\u001b[1;32m    406\u001b[0m \u001b[39mif\u001b[39;00m newline_indent \u001b[39mis\u001b[39;00m \u001b[39mnot\u001b[39;00m \u001b[39mNone\u001b[39;00m:\n\u001b[1;32m    407\u001b[0m     _current_indent_level \u001b[39m-\u001b[39m\u001b[39m=\u001b[39m \u001b[39m1\u001b[39m\n",
      "File \u001b[0;32m~/miniforge3/envs/dl_mac/lib/python3.10/json/encoder.py:316\u001b[0m, in \u001b[0;36m_make_iterencode.<locals>._iterencode_list\u001b[0;34m(lst, _current_indent_level)\u001b[0m\n\u001b[1;32m    313\u001b[0m     \u001b[39myield\u001b[39;00m buf \u001b[39m+\u001b[39m _intstr(value)\n\u001b[1;32m    314\u001b[0m \u001b[39melif\u001b[39;00m \u001b[39misinstance\u001b[39m(value, \u001b[39mfloat\u001b[39m):\n\u001b[1;32m    315\u001b[0m     \u001b[39m# see comment above for int\u001b[39;00m\n\u001b[0;32m--> 316\u001b[0m     \u001b[39myield\u001b[39;00m buf \u001b[39m+\u001b[39m _floatstr(value)\n\u001b[1;32m    317\u001b[0m \u001b[39melse\u001b[39;00m:\n\u001b[1;32m    318\u001b[0m     \u001b[39myield\u001b[39;00m buf\n",
      "File \u001b[0;32m~/miniforge3/envs/dl_mac/lib/python3.10/json/encoder.py:223\u001b[0m, in \u001b[0;36mJSONEncoder.iterencode.<locals>.floatstr\u001b[0;34m(o, allow_nan, _repr, _inf, _neginf)\u001b[0m\n\u001b[1;32m    220\u001b[0m \u001b[39melse\u001b[39;00m:\n\u001b[1;32m    221\u001b[0m     _encoder \u001b[39m=\u001b[39m encode_basestring\n\u001b[0;32m--> 223\u001b[0m \u001b[39mdef\u001b[39;00m \u001b[39mfloatstr\u001b[39m(o, allow_nan\u001b[39m=\u001b[39m\u001b[39mself\u001b[39m\u001b[39m.\u001b[39mallow_nan,\n\u001b[1;32m    224\u001b[0m         _repr\u001b[39m=\u001b[39m\u001b[39mfloat\u001b[39m\u001b[39m.\u001b[39m\u001b[39m__repr__\u001b[39m, _inf\u001b[39m=\u001b[39mINFINITY, _neginf\u001b[39m=\u001b[39m\u001b[39m-\u001b[39mINFINITY):\n\u001b[1;32m    225\u001b[0m     \u001b[39m# Check for specials.  Note that this type of test is processor\u001b[39;00m\n\u001b[1;32m    226\u001b[0m     \u001b[39m# and/or platform-specific, so do tests which don't depend on the\u001b[39;00m\n\u001b[1;32m    227\u001b[0m     \u001b[39m# internals.\u001b[39;00m\n\u001b[1;32m    229\u001b[0m     \u001b[39mif\u001b[39;00m o \u001b[39m!=\u001b[39m o:\n\u001b[1;32m    230\u001b[0m         text \u001b[39m=\u001b[39m \u001b[39m'\u001b[39m\u001b[39mNaN\u001b[39m\u001b[39m'\u001b[39m\n",
      "File \u001b[0;32m_pydevd_bundle/pydevd_cython.pyx:1457\u001b[0m, in \u001b[0;36m_pydevd_bundle.pydevd_cython.SafeCallWrapper.__call__\u001b[0;34m()\u001b[0m\n",
      "File \u001b[0;32m_pydevd_bundle/pydevd_cython.pyx:1758\u001b[0m, in \u001b[0;36m_pydevd_bundle.pydevd_cython.ThreadTracer.__call__\u001b[0;34m()\u001b[0m\n",
      "File \u001b[0;32m~/miniforge3/envs/dl_mac/lib/python3.10/site-packages/debugpy/_vendored/pydevd/_pydev_bundle/pydev_is_thread_alive.py:9\u001b[0m, in \u001b[0;36mis_thread_alive\u001b[0;34m(t)\u001b[0m\n\u001b[1;32m      6\u001b[0m _temp \u001b[39m=\u001b[39m threading\u001b[39m.\u001b[39mThread()\n\u001b[1;32m      7\u001b[0m \u001b[39mif\u001b[39;00m \u001b[39mhasattr\u001b[39m(_temp, \u001b[39m'\u001b[39m\u001b[39m_is_stopped\u001b[39m\u001b[39m'\u001b[39m):  \u001b[39m# Python 3.x has this\u001b[39;00m\n\u001b[0;32m----> 9\u001b[0m     \u001b[39mdef\u001b[39;00m \u001b[39mis_thread_alive\u001b[39m(t):\n\u001b[1;32m     10\u001b[0m         \u001b[39mreturn\u001b[39;00m \u001b[39mnot\u001b[39;00m t\u001b[39m.\u001b[39m_is_stopped\n\u001b[1;32m     12\u001b[0m \u001b[39melif\u001b[39;00m \u001b[39mhasattr\u001b[39m(_temp, \u001b[39m'\u001b[39m\u001b[39m_Thread__stopped\u001b[39m\u001b[39m'\u001b[39m):  \u001b[39m# Python 2.x has this\u001b[39;00m\n",
      "\u001b[0;31mKeyboardInterrupt\u001b[0m: "
     ]
    }
   ],
   "source": [
    "#%% Extract feature using the extraction model to build vectors for FAISS database\n",
    "# define transformation similar to traning model\n",
    "class Rescale:\n",
    "    #Rescale the image tensor values from uint8 [0, 255] to float32 [0.0, 1.0]\n",
    "    def __call__(self, tensor: torch.Tensor) -> torch.Tensor:\n",
    "        return tensor.float() / 255.0\n",
    "\n",
    "transform = transforms.Compose([\n",
    "    Rescale(),\n",
    "    transforms.Normalize(mean=[0.485, 0.456, 0.406], std=[0.229, 0.224, 0.225])\n",
    "])\n",
    "\n",
    "# %%load traning set paths and capture the feature vectors\n",
    "sample_path = pd.read_csv('training_sample_paths.csv')\n",
    "sample_path['Sample_Path'] = sample_path['Sample_Path'].str.replace('\\\\','/')\n",
    "embedding_dict = {}\n",
    "\n",
    "for img_path in sample_path['Sample_Path']:\n",
    "    # extract feature using 'feature_extract' model\n",
    "    image = read_image(img_path)\n",
    "    image = transform(image)\n",
    "    image = image.unsqueeze(0)\n",
    "    output_features = feature_resnet(image)\n",
    "\n",
    "    # transfer the tensor type to list and save in json format (1-D)\n",
    "    embedding_vector = output_features.squeeze().tolist()\n",
    "    key = img_path.split('/')[-1].split('.')[0]\n",
    "    embedding_dict[key] = embedding_vector\n",
    "    \n",
    "    # dump key, value into json file\n",
    "    with open('image_embeddings.json','w') as f:\n",
    "        json.dump(embedding_dict, f)"
   ]
  },
  {
   "cell_type": "code",
   "execution_count": null,
   "metadata": {},
   "outputs": [],
   "source": []
  }
 ],
 "metadata": {
  "kernelspec": {
   "display_name": "dl_mac",
   "language": "python",
   "name": "python3"
  },
  "language_info": {
   "codemirror_mode": {
    "name": "ipython",
    "version": 3
   },
   "file_extension": ".py",
   "mimetype": "text/x-python",
   "name": "python",
   "nbconvert_exporter": "python",
   "pygments_lexer": "ipython3",
   "version": "3.10.12"
  },
  "orig_nbformat": 4
 },
 "nbformat": 4,
 "nbformat_minor": 2
}
