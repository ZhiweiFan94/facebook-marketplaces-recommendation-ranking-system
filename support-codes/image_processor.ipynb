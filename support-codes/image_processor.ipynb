{
 "cells": [
  {
   "cell_type": "code",
   "execution_count": null,
   "metadata": {},
   "outputs": [],
   "source": [
    "\n",
    "# %% Fine tune ResNet50 pretrained model for learning \n",
    "import torch\n",
    "import pandas as pd\n",
    "import json\n",
    "import torch.nn as nn\n",
    "import torchvision.models as models\n",
    "import torchvision.transforms as transforms\n",
    "import warnings\n",
    "warnings.filterwarnings('ignore')\n",
    "from torchvision.io import read_image\n"
   ]
  },
  {
   "cell_type": "code",
   "execution_count": 5,
   "metadata": {},
   "outputs": [],
   "source": [
    "\n",
    "# Load the previously trained model weights\n",
    "trained_model_state_dict = torch.load('./model_evaluation/model_20230907_150639/weights/resnet_epoch_9_val_loss_0.2843_val_acc_68.49.pth')\n",
    "# Load the pretrained ResNet-50 model\n",
    "feature_resnet = models.resnet50(pretrained=False)\n",
    "# rebuild the training model and load weights from pretrained parameters\n",
    "feature_resnet.fc = nn.Sequential(\n",
    "    nn.Linear(2048, 1000),\n",
    "    nn.ReLU(),\n",
    "    nn.Linear(1000, 13)\n",
    "    )\n",
    "feature_resnet.load_state_dict(trained_model_state_dict)\n",
    "# drop the last two layers -- transfer from classification to feature extraction model with 1000 neurons\n",
    "feature_resnet.fc = feature_resnet.fc[0]\n"
   ]
  },
  {
   "cell_type": "code",
   "execution_count": null,
   "metadata": {},
   "outputs": [],
   "source": [
    "#%% Extract feature using the extraction model to build vectors for FAISS database\n",
    "# define transformation similar to traning model\n",
    "class Rescale:\n",
    "    #Rescale the image tensor values from uint8 [0, 255] to float32 [0.0, 1.0]\n",
    "    def __call__(self, tensor: torch.Tensor) -> torch.Tensor:\n",
    "        return tensor.float() / 255.0\n",
    "\n",
    "transform = transforms.Compose([\n",
    "    Rescale(),\n",
    "    transforms.Normalize(mean=[0.485, 0.456, 0.406], std=[0.229, 0.224, 0.225])\n",
    "])\n",
    "\n",
    "# %%load traning set paths and capture the feature vectors\n",
    "sample_path = pd.read_csv('training_sample_paths.csv')\n",
    "sample_path['Sample_Path'] = sample_path['Sample_Path'].str.replace('\\\\','/')\n",
    "embedding_dict = {}\n",
    "\n",
    "for img_path in sample_path['Sample_Path']:\n",
    "    # extract feature using 'feature_extract' model\n",
    "    image = read_image(img_path)\n",
    "    image = transform(image)\n",
    "    image = image.unsqueeze(0)\n",
    "    output_features = feature_resnet(image)\n",
    "\n",
    "    # transfer the tensor type to list and save in json format (1-D)\n",
    "    embedding_vector = output_features.squeeze().tolist()\n",
    "    key = img_path.split('/')[-1].split('.')[0]\n",
    "    embedding_dict[key] = embedding_vector\n",
    "    \n",
    "    # dump key, value into json file\n",
    "    with open('image_embeddings.json','w') as f:\n",
    "        json.dump(embedding_dict, f)"
   ]
  }
 ],
 "metadata": {
  "kernelspec": {
   "display_name": "dl_mac",
   "language": "python",
   "name": "python3"
  },
  "language_info": {
   "codemirror_mode": {
    "name": "ipython",
    "version": 3
   },
   "file_extension": ".py",
   "mimetype": "text/x-python",
   "name": "python",
   "nbconvert_exporter": "python",
   "pygments_lexer": "ipython3",
   "version": "3.10.12"
  },
  "orig_nbformat": 4
 },
 "nbformat": 4,
 "nbformat_minor": 2
}
