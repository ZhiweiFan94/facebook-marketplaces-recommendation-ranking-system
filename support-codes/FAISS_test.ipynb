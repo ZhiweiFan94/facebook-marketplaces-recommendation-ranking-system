{
 "cells": [
  {
   "cell_type": "code",
   "execution_count": null,
   "metadata": {},
   "outputs": [],
   "source": [
    "#%% import libraries\n",
    "import json\n",
    "import numpy as np\n",
    "import faiss\n",
    "import pandas as pd\n",
    "from PIL import Image\n",
    "\n",
    "\n",
    "#%% load dict: image idx and feature vector from json\n",
    "with open('image_embeddings.json', 'r') as f:\n",
    "    embeddings_dict = json.load(f)\n"
   ]
  },
  {
   "cell_type": "code",
   "execution_count": null,
   "metadata": {},
   "outputs": [],
   "source": [
    "# extract vectors and convert them to a numpy matrix\n",
    "database_vectors = np.array(list(embeddings_dict.values())).astype('float32')\n",
    "database_keys = np.array(list(embeddings_dict.keys())).astype('str')\n",
    "\n",
    "# define dimential and searching method\n",
    "dimension = 1000  # number of features\n",
    "index = faiss.IndexFlatL2(dimension)\n",
    "\n",
    "# load feature vectors to the index\n",
    "index.add(database_vectors)\n",
    "\n",
    "#%% select a query vector \n",
    "q_idx = 0\n",
    "query_vector = database_vectors[q_idx,:].reshape(1,1000) # just pick a random one from database\n",
    "query_img = database_keys[q_idx]\n",
    "print(query_img)"
   ]
  },
  {
   "cell_type": "code",
   "execution_count": null,
   "metadata": {},
   "outputs": [],
   "source": [
    "# searching with faiss\n",
    "k = 5 # find number of similar images as output\n",
    "# 'indices' will contain indices of the nearest vectors in your database\n",
    "# 'distances' will contain L2 distances to these vectors\n",
    "distances, indices = index.search(query_vector, k)\n",
    "\n",
    "faiss_idx=[]\n",
    "faiss_name=[]\n",
    "print('Top closest images in the database:')\n",
    "for i, idx in enumerate(indices[0]):\n",
    "    faiss_idx.append(idx)\n",
    "    faiss_name.append(database_keys[idx])\n",
    "    print(f'Rank {i + 1}: Image at index {idx} with L2 distance: {distances[0][i]}')\n",
    "    print(f'the name of the image is {database_keys[idx]}')"
   ]
  },
  {
   "cell_type": "code",
   "execution_count": null,
   "metadata": {},
   "outputs": [],
   "source": [
    "# Define the folder and extension\n",
    "folder_path = 'cleaned_images'\n",
    "extension = '.jpg'\n",
    "\n",
    "# List to hold all the images (starting with the query image)\n",
    "all_images = [Image.open(folder_path + '/' + query_img + extension)]\n",
    "for idx in indices[0]:\n",
    "    all_images.append(Image.open(folder_path + '/' + database_keys[idx] + extension))\n",
    "\n",
    "# Assuming all images are the same size, get width and height of one image\n",
    "img_width, img_height = all_images[0].size\n",
    "\n",
    "# Create an empty image to hold the 2x3 grid\n",
    "grid_width = 3 * img_width\n",
    "grid_height = 2 * img_height\n",
    "grid_image = Image.new('RGB', (grid_width, grid_height))\n",
    "\n",
    "# Place images on the grid\n",
    "for i in range(2):  # 2 rows\n",
    "    for j in range(3):  # 3 columns\n",
    "        img = all_images[i*3 + j]\n",
    "        grid_image.paste(img, (j * img_width, i * img_height))\n",
    "\n",
    "# Show the combined image that similar to the input one\n",
    "grid_image.show()"
   ]
  }
 ],
 "metadata": {
  "language_info": {
   "name": "python"
  },
  "orig_nbformat": 4
 },
 "nbformat": 4,
 "nbformat_minor": 2
}
