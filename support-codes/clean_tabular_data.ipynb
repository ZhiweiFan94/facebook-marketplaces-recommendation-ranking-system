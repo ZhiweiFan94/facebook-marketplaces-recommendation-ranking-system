{
 "cells": [
  {
   "cell_type": "code",
   "execution_count": null,
   "metadata": {},
   "outputs": [],
   "source": [
    "##########connect to EC2 and download files#############\n",
    "#%%load files from EC2\n",
    "import paramiko\n",
    "from EC2_configuration import key_file_path, ec2_ip_address, ec2_username, remote_file_path, local_file_path\n",
    "\n",
    "# Establish SSH connection\n",
    "key = paramiko.RSAKey(filename=key_file_path)\n",
    "client = paramiko.SSHClient()\n",
    "client.set_missing_host_key_policy(paramiko.AutoAddPolicy())\n",
    "client.connect(ec2_ip_address, username=ec2_username, pkey=key)\n",
    "\n",
    "# Download file from EC2 to local\n",
    "sftp_client = client.open_sftp()\n",
    "sftp_client.get(remote_file_path, local_file_path)\n",
    "\n",
    "# Cleanup\n",
    "sftp_client.close()\n",
    "client.close()\n"
   ]
  },
  {
   "cell_type": "code",
   "execution_count": null,
   "metadata": {},
   "outputs": [],
   "source": [
    "#######Clean tabular dataset and extract labels for classification#########\n",
    "# %% clean products.csv \n",
    "import pandas as pd\n",
    "# read products dataset\n",
    "df_pdt = pd.read_csv('Products.csv',lineterminator='\\n')\n",
    "# check null values\n",
    "print(df_pdt.isnull().sum())\n",
    "# strip currency sign from the price\n",
    "df_pdt['price'] = df_pdt['price'].str.strip('£')\n",
    "df_pdt['price'] = df_pdt['price'].str.replace(',','').astype(float)\n",
    "df_pdt.head()\n",
    "\n",
    "# %% clean images.csv\n",
    "df_img = pd.read_csv('Images.csv')\n",
    "df_img.isnull().sum()\n"
   ]
  },
  {
   "cell_type": "code",
   "execution_count": null,
   "metadata": {},
   "outputs": [],
   "source": [
    "# %% extract labels of category from product dataset\n",
    "# shorten the root category by first content before slash\n",
    "df_pdt['ext_category'] = df_pdt['category'].str.split('/').str[0].str.strip()\n",
    "category = df_pdt['ext_category'].unique()\n",
    "# custom labels for each category\n",
    "custom_encoding = {\n",
    "    'Home & Garden': 0,\n",
    "    'Baby & Kids Stuff': 1,\n",
    "    'DIY Tools & Materials': 2,\n",
    "    'Music, Films, Books & Games': 3,\n",
    "    'Phones, Mobile Phones & Telecoms': 4,\n",
    "    'Clothes, Footwear & Accessories': 5,\n",
    "    'Other Goods': 6,\n",
    "    'Health & Beauty': 7,\n",
    "    'Sports, Leisure & Travel': 8,\n",
    "    'Appliances': 9,\n",
    "    'Computers & Software': 10,\n",
    "    'Office Furniture & Equipment': 11,\n",
    "    'Video Games & Consoles': 12\n",
    "}\n",
    "# create new column with encoded labels \n",
    "df_pdt['encoded_category'] = df_pdt['ext_category'].map(custom_encoding)\n",
    "\n",
    "# %%test the decoder if category numbers are given\n",
    "coder_list = [0,2,4,6,9,12]\n",
    "reversed_pair = {v: k for k, v in custom_encoding.items()}\n",
    "decoded_category = list(map(reversed_pair.get, coder_list))\n",
    "\n",
    "# %% merge two dataframes with matched ids\n",
    "merged_df = df_img.merge(df_pdt, left_on='product_id', right_on='id', how='inner')\n",
    "# save the merged dataset \n",
    "merged_df.to_csv('training_data.csv')\n"
   ]
  },
  {
   "cell_type": "code",
   "execution_count": null,
   "metadata": {},
   "outputs": [],
   "source": [
    "\n",
    "#%% save the encoder to pickle file\n",
    "import pickle\n",
    "custom_encoding = {\n",
    "    'Home & Garden': 0,\n",
    "    'Baby & Kids Stuff': 1,\n",
    "    'DIY Tools & Materials': 2,\n",
    "    'Music, Films, Books & Games': 3,\n",
    "    'Phones, Mobile Phones & Telecoms': 4,\n",
    "    'Clothes, Footwear & Accessories': 5,\n",
    "    'Other Goods': 6,\n",
    "    'Health & Beauty': 7,\n",
    "    'Sports, Leisure & Travel': 8,\n",
    "    'Appliances': 9,\n",
    "    'Computers & Software': 10,\n",
    "    'Office Furniture & Equipment': 11,\n",
    "    'Video Games & Consoles': 12\n",
    "}\n",
    "with open('image_decoder.pkl','wb') as f:\n",
    "    pickle.dump(custom_encoding,f)\n"
   ]
  }
 ],
 "metadata": {
  "language_info": {
   "name": "python"
  },
  "orig_nbformat": 4
 },
 "nbformat": 4,
 "nbformat_minor": 2
}
